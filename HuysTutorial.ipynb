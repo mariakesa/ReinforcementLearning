{
 "cells": [
  {
   "cell_type": "code",
   "execution_count": 1,
   "metadata": {},
   "outputs": [],
   "source": [
    "#Tutorial from http://www.ccnss.org/wp-content/uploads/2016/07/rlfit.pdf"
   ]
  },
  {
   "cell_type": "code",
   "execution_count": 3,
   "metadata": {},
   "outputs": [],
   "source": [
    "import numpy as np\n",
    "import matplotlib.pyplot as plt"
   ]
  },
  {
   "cell_type": "code",
   "execution_count": null,
   "metadata": {},
   "outputs": [],
   "source": [
    "#def pavlovian_value(state,prev_val):\n",
    "    \n",
    "#def instrumental_value(state,prev_val):\n",
    "    "
   ]
  },
  {
   "cell_type": "code",
   "execution_count": 65,
   "metadata": {},
   "outputs": [
    {
     "name": "stdout",
     "output_type": "stream",
     "text": [
      "[1]\n"
     ]
    }
   ],
   "source": [
    "def generate_rewards_according_to_state_and_action(state,action):\n",
    "    reward_lst=[0,-1,1]\n",
    "    #0 is nogo, 1 is go\n",
    "    actions_lst=[0,1]\n",
    "    #Go to win\n",
    "    if state==0 and action==1:\n",
    "        reward=np.random.choice(reward_lst,1,p=[0.2,0,0.8])\n",
    "    if state==0 and action==0:\n",
    "        reward=0\n",
    "    #Nogo to win\n",
    "    if state==1 and action==0:\n",
    "        reward=np.random.choice(reward_lst,1,p=[0.2,0,0.8])\n",
    "    if state==1 and action==1:\n",
    "        reward=0\n",
    "    #Nogo to avoid loss\n",
    "    if state==2 and action==0:\n",
    "        reward=0\n",
    "    if state==2 and action==1:\n",
    "        reward=np.random.choice(reward_lst,1,p=[0.2,0.8,0])\n",
    "    #Go to avoid loss\n",
    "    if state==3 and action==1:\n",
    "        reward=0\n",
    "    if state==3 and action==0:\n",
    "        reward=np.random.choice(reward_lst,1,p=[0.2,0.8,0])\n",
    "    return reward\n",
    "#def generate_states_and_rewards():\n",
    "    \n",
    "print(generate_rewards_according_to_state_and_action(0,1))"
   ]
  }
 ],
 "metadata": {
  "kernelspec": {
   "display_name": "Python 3",
   "language": "python",
   "name": "python3"
  },
  "language_info": {
   "codemirror_mode": {
    "name": "ipython",
    "version": 3
   },
   "file_extension": ".py",
   "mimetype": "text/x-python",
   "name": "python",
   "nbconvert_exporter": "python",
   "pygments_lexer": "ipython3",
   "version": "3.7.7"
  }
 },
 "nbformat": 4,
 "nbformat_minor": 4
}
