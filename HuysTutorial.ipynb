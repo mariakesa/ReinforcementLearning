{
 "cells": [
  {
   "cell_type": "code",
   "execution_count": 1,
   "metadata": {},
   "outputs": [],
   "source": [
    "#Tutorial from http://www.ccnss.org/wp-content/uploads/2016/07/rlfit.pdf"
   ]
  },
  {
   "cell_type": "code",
   "execution_count": 1,
   "metadata": {},
   "outputs": [],
   "source": [
    "import numpy as np\n",
    "import matplotlib.pyplot as plt"
   ]
  },
  {
   "cell_type": "code",
   "execution_count": 2,
   "metadata": {},
   "outputs": [],
   "source": [
    "def pavlovian_value(state,prev_val,reward,alpha=0.1):\n",
    "    val=prev_val[state]+alpha*(reward-prev_val[state])\n",
    "    prev_val[state]=val\n",
    "    return prev_val\n",
    "def instrumental_value(state,action,prev_q,reward,alpha=0.1):\n",
    "    q=prev_q[state,action]+alpha*(reward-prev_q[state,action])\n",
    "    prev_q[state,action]=q\n",
    "    return prev_q\n",
    "    "
   ]
  },
  {
   "cell_type": "code",
   "execution_count": 6,
   "metadata": {},
   "outputs": [
    {
     "name": "stdout",
     "output_type": "stream",
     "text": [
      "1\n"
     ]
    }
   ],
   "source": [
    "def generate_rewards_according_to_state_and_action(state,action):\n",
    "    reward_lst=[0,-1,1]\n",
    "    #0 is nogo, 1 is go\n",
    "    actions_lst=[0,1]\n",
    "    #Go to win\n",
    "    if state==0 and action==1:\n",
    "        reward=np.random.choice(reward_lst,1,p=[0.2,0,0.8])[0]\n",
    "    if state==0 and action==0:\n",
    "        reward=0\n",
    "    #Nogo to win\n",
    "    if state==1 and action==0:\n",
    "        reward=np.random.choice(reward_lst,1,p=[0.2,0,0.8])[0]\n",
    "    if state==1 and action==1:\n",
    "        reward=0\n",
    "    #Nogo to avoid loss\n",
    "    if state==2 and action==0:\n",
    "        reward=0\n",
    "    if state==2 and action==1:\n",
    "        reward=np.random.choice(reward_lst,1,p=[0.2,0.8,0])[0]\n",
    "    #Go to avoid loss\n",
    "    if state==3 and action==1:\n",
    "        reward=0\n",
    "    if state==3 and action==0:\n",
    "        reward=np.random.choice(reward_lst,1,p=[0.2,0.8,0])[0]\n",
    "    return reward\n",
    "\n",
    "def action_e(state,pavlovian_value,instrumental_value,epsilon=0.1):\n",
    "    e_lst=[]\n",
    "    for a in range(0,2):\n",
    "        if a==0:\n",
    "            weight=instrumental_value[state,a]\n",
    "            pr=np.e**weight\n",
    "        elif a==1:\n",
    "            weight=instrumental_value[state,a]+epsilon*pavlovian_value[state]\n",
    "            pr=np.e**weight\n",
    "        e_lst.append(pr)\n",
    "    probability=e_lst/np.sum(e_lst)\n",
    "    return probability\n",
    "            \n",
    "def generate_action(state,pavlovian_value,instrumental_value):\n",
    "    probability=action_e(state,pavlovian_value,instrumental_value)\n",
    "    action=np.random.choice([0,1],1,p=probability.flatten())[0]\n",
    "    return action, probability[action]\n",
    "    \n",
    "def generate_state_and_reward(pavlovian_value,instrumental_value):\n",
    "    states=[0,1,2,3]\n",
    "    state=np.random.choice(states,1)[0]\n",
    "    action,probability=generate_action(state,pavlovian_value,instrumental_value)\n",
    "    reward=generate_rewards_according_to_state_and_action(state,action)\n",
    "    return state,reward,action,probability\n",
    "print(generate_rewards_according_to_state_and_action(0,1))"
   ]
  },
  {
   "cell_type": "code",
   "execution_count": 7,
   "metadata": {
    "scrolled": false
   },
   "outputs": [
    {
     "name": "stdout",
     "output_type": "stream",
     "text": [
      "[[0.01 0.01]\n",
      " [0.01 0.01]\n",
      " [0.01 0.01]\n",
      " [0.01 0.01]]\n"
     ]
    }
   ],
   "source": [
    "val_arr=np.zeros((4,))+0.01\n",
    "q_arr=np.zeros((4,2))+0.01\n",
    "\n",
    "print(q_arr)"
   ]
  },
  {
   "cell_type": "code",
   "execution_count": 8,
   "metadata": {
    "scrolled": true
   },
   "outputs": [
    {
     "data": {
      "text/plain": [
       "(1, 1, 0, 0.49975000002083336)"
      ]
     },
     "execution_count": 8,
     "metadata": {},
     "output_type": "execute_result"
    }
   ],
   "source": [
    "generate_state_and_reward(val_arr,q_arr)"
   ]
  },
  {
   "cell_type": "code",
   "execution_count": 11,
   "metadata": {
    "scrolled": true
   },
   "outputs": [
    {
     "data": {
      "image/png": "[encoded data removed]",
      "text/plain": [
       "<Figure size 432x288 with 1 Axes>"
      ]
     },
     "metadata": {
      "needs_background": "light"
     },
     "output_type": "display_data"
    },
    {
     "data": {
      "image/png": "[encoded data removed]",
      "text/plain": [
       "<Figure size 432x288 with 1 Axes>"
      ]
     },
     "metadata": {
      "needs_background": "light"
     },
     "output_type": "display_data"
    },
    {
     "data": {
      "image/png": "[encoded data removed]",
      "text/plain": [
       "<Figure size 432x288 with 1 Axes>"
      ]
     },
     "metadata": {
      "needs_background": "light"
     },
     "output_type": "display_data"
    },
    {
     "name": "stdout",
     "output_type": "stream",
     "text": [
      "Reward sum: 13\n"
     ]
    }
   ],
   "source": [
    "def experiment():\n",
    "    val_arr=np.zeros((4,))+0.01\n",
    "    q_arr=np.zeros((4,2))+0.01\n",
    "    reward_lst=[]\n",
    "    state_lst=[]\n",
    "    action_lst=[]\n",
    "    probability_lst=[]\n",
    "    for j in range(0,100):\n",
    "        state,reward,action,probability=generate_state_and_reward(val_arr,q_arr)\n",
    "        probability_lst.append(probability)\n",
    "        reward_lst.append(reward)\n",
    "        action_lst.append(action)\n",
    "        state_lst.append(state)\n",
    "        #print(state)\n",
    "        val_arr=pavlovian_value(state,val_arr,reward,alpha=0.1)\n",
    "        q_arr=instrumental_value(state,action,q_arr,reward,alpha=0.1)\n",
    "        #print(q_arr)\n",
    "    return val_arr, q_arr,reward_lst,action_lst,state_lst,probability_lst\n",
    "    \n",
    "val_arr, q_arr,reward_lst,action_lst,state_lst,probability_lst=experiment()\n",
    "\n",
    "plt.plot(action_lst,'o')\n",
    "plt.title('Actions')\n",
    "plt.show()\n",
    "plt.plot(reward_lst,'o')\n",
    "plt.title('Rewards')\n",
    "plt.show()\n",
    "plt.plot(state_lst,'o')\n",
    "plt.title('States')\n",
    "plt.show()\n",
    "\n",
    "print('Reward sum:',sum(reward_lst))"
   ]
  },
  {
   "cell_type": "code",
   "execution_count": 13,
   "metadata": {},
   "outputs": [
    {
     "data": {
      "text/plain": [
       "-65.44900744919013"
      ]
     },
     "execution_count": 13,
     "metadata": {},
     "output_type": "execute_result"
    }
   ],
   "source": [
    "def calculate_likelihood(probability_lst):\n",
    "    likelihood=np.log(np.prod(probability_lst))\n",
    "    return likelihood\n",
    "\n",
    "calculate_likelihood(probability_lst)"
   ]
  }
 ],
 "metadata": {
  "kernelspec": {
   "display_name": "Python 3",
   "language": "python",
   "name": "python3"
  },
  "language_info": {
   "codemirror_mode": {
    "name": "ipython",
    "version": 3
   },
   "file_extension": ".py",
   "mimetype": "text/x-python",
   "name": "python",
   "nbconvert_exporter": "python",
   "pygments_lexer": "ipython3",
   "version": "3.7.7"
  }
 },
 "nbformat": 4,
 "nbformat_minor": 4
}
